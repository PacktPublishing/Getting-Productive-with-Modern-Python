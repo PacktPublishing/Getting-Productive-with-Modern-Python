{
 "cells": [
  {
   "cell_type": "code",
   "execution_count": null,
   "metadata": {},
   "outputs": [],
   "source": [
    "# Parallel programming with Pool\n",
    "\n",
    "# Importing the multiprocessing \n",
    "from multiprocessing import Pool\n",
    "\n",
    "# function to which we'll perform multi-processing\n",
    "def cube(i):\n",
    "    i = i+1\n",
    "    z = i**3\n",
    "    return z\n",
    "\n",
    "# using pool class to map the function with iterable arguments-\n",
    "print(Pool().map(cube, [1, 2, 3]))\n",
    "\n",
    "\n"
   ]
  },
  {
   "cell_type": "code",
   "execution_count": null,
   "metadata": {},
   "outputs": [],
   "source": []
  }
 ],
 "metadata": {
  "kernelspec": {
   "display_name": "Python 3",
   "language": "python",
   "name": "python3"
  },
  "language_info": {
   "codemirror_mode": {
    "name": "ipython",
    "version": 3
   },
   "file_extension": ".py",
   "mimetype": "text/x-python",
   "name": "python",
   "nbconvert_exporter": "python",
   "pygments_lexer": "ipython3",
   "version": "3.6.5"
  }
 },
 "nbformat": 4,
 "nbformat_minor": 2
}
