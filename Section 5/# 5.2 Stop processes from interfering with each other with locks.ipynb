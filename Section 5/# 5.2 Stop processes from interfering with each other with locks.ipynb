{
 "cells": [
  {
   "cell_type": "code",
   "execution_count": 7,
   "metadata": {},
   "outputs": [
    {
     "name": "stdout",
     "output_type": "stream",
     "text": [
      "Final balance = 500\n",
      "Final balance = 500\n",
      "Final balance = 500\n",
      "Final balance = 500\n",
      "Final balance = 500\n",
      "Final balance = 500\n",
      "Final balance = 500\n",
      "Final balance = 500\n",
      "Final balance = 500\n",
      "Final balance = 500\n"
     ]
    }
   ],
   "source": [
    "# Python program to illustrate  \n",
    "# the concept of locks \n",
    "# in multiprocessing \n",
    "import multiprocessing \n",
    "  \n",
    "# function to withdraw from account \n",
    "def withdraw(balance, lock):     \n",
    "    for _ in range(2000): \n",
    "        lock.acquire() \n",
    "        balance.value = balance.value - 1\n",
    "        lock.release() \n",
    "  \n",
    "# function to deposit to account \n",
    "def deposit(balance, lock):     \n",
    "    for _ in range(2000): \n",
    "        lock.acquire() \n",
    "        balance.value = balance.value + 1\n",
    "        lock.release() \n",
    "  \n",
    "def perform_transactions(): \n",
    "  \n",
    "    # initial balance (in shared memory) \n",
    "    balance = multiprocessing.Value('i', 500) \n",
    "  \n",
    "    # creating a lock object \n",
    "    lock = multiprocessing.Lock() \n",
    "  \n",
    "    # creating new processes \n",
    "    p1 = multiprocessing.Process(target=withdraw, args=(balance,lock)) \n",
    "    p2 = multiprocessing.Process(target=deposit, args=(balance,lock)) \n",
    "  \n",
    "    # starting processes \n",
    "    p1.start() \n",
    "    p2.start() \n",
    "  \n",
    "    # wait until processes are finished \n",
    "    p1.join() \n",
    "    p2.join() \n",
    "  \n",
    "    # print final balance \n",
    "    print(\"Final balance = {}\".format(balance.value)) \n",
    "  \n",
    "if __name__ == \"__main__\": \n",
    "    for _ in range(10): \n",
    "  \n",
    "        # perform same transaction process 10 times \n",
    "        perform_transactions()"
   ]
  },
  {
   "cell_type": "code",
   "execution_count": null,
   "metadata": {},
   "outputs": [],
   "source": []
  }
 ],
 "metadata": {
  "kernelspec": {
   "display_name": "Python 3",
   "language": "python",
   "name": "python3"
  },
  "language_info": {
   "codemirror_mode": {
    "name": "ipython",
    "version": 3
   },
   "file_extension": ".py",
   "mimetype": "text/x-python",
   "name": "python",
   "nbconvert_exporter": "python",
   "pygments_lexer": "ipython3",
   "version": "3.6.5"
  }
 },
 "nbformat": 4,
 "nbformat_minor": 2
}
