{
 "cells": [
  {
   "cell_type": "code",
   "execution_count": 1,
   "metadata": {},
   "outputs": [
    {
     "name": "stdout",
     "output_type": "stream",
     "text": [
      "0.25081490649480026\n",
      "0.1375026036556835\n"
     ]
    }
   ],
   "source": [
    "# Timeit\n",
    "\n",
    "# Importing timeit module for execution-\n",
    "import timeit\n",
    "\n",
    "# Importing square root module-\n",
    "\n",
    "mysetup=\"from math import sqrt\"\n",
    "# code to be measured for execution time\n",
    "mycode = ''' \n",
    "\n",
    "\n",
    "mylist = [] \n",
    "for x in range(100): \n",
    "    mylist.append(sqrt(x)) \n",
    "'''\n",
    "\n",
    "\n",
    "# timeit statement \n",
    "print (timeit.timeit( setup=mysetup,\n",
    "                    stmt = mycode, \n",
    "                    number = 10000)) \n",
    "\n",
    "\n",
    "mycode_2 = '''\n",
    "\n",
    "mylist = [] \n",
    "mylist = [lambda x: sqrt(x) for x in range(100)]\n",
    "'''\n",
    "\n",
    "print (timeit.timeit( setup=mysetup,\n",
    "                    stmt = mycode_2, \n",
    "                    number = 10000)) \n",
    "\n",
    "\n",
    "\n",
    "\n",
    "\n",
    "\n",
    "\n"
   ]
  },
  {
   "cell_type": "code",
   "execution_count": 2,
   "metadata": {},
   "outputs": [
    {
     "name": "stdout",
     "output_type": "stream",
     "text": [
      "0.06190874375499977\n",
      "0.03305631443104462\n"
     ]
    }
   ],
   "source": [
    "selection_sort = '''\n",
    "A = [64, 25, 12, 22, 11] \n",
    "  \n",
    "for i in range(len(A)): \n",
    "      \n",
    "    # Find the minimum element in remaining  \n",
    "    # unsorted array \n",
    "    min_idx = i \n",
    "    for j in range(i+1, len(A)): \n",
    "        if A[min_idx] > A[j]: \n",
    "            min_idx = j \n",
    "              \n",
    "    # Swap the found minimum element with  \n",
    "    # the first element         \n",
    "    A[i], A[min_idx] = A[min_idx], A[i] \n",
    "'''\n",
    "\n",
    "print (timeit.timeit( \n",
    "                    stmt = selection_sort, \n",
    "                    number = 10000))\n",
    "\n",
    "\n",
    "\n",
    "insertion_sort = '''\n",
    "arr = [64, 25, 12, 22, 11]\n",
    "for i in range(1, len(arr)): \n",
    "  \n",
    "    key = arr[i] \n",
    "  \n",
    "    j = i-1\n",
    "    while j >=0 and key < arr[j] : \n",
    "            arr[j+1] = arr[j] \n",
    "            j -= 1\n",
    "    arr[j+1] = key\n",
    "'''\n",
    "\n",
    "print (timeit.timeit( \n",
    "                    stmt = insertion_sort, \n",
    "                    number = 10000))\n",
    "\n",
    "\n",
    "\n",
    "\n",
    "\n",
    "\n"
   ]
  },
  {
   "cell_type": "code",
   "execution_count": null,
   "metadata": {},
   "outputs": [],
   "source": []
  }
 ],
 "metadata": {
  "kernelspec": {
   "display_name": "Python 3",
   "language": "python",
   "name": "python3"
  },
  "language_info": {
   "codemirror_mode": {
    "name": "ipython",
    "version": 3
   },
   "file_extension": ".py",
   "mimetype": "text/x-python",
   "name": "python",
   "nbconvert_exporter": "python",
   "pygments_lexer": "ipython3",
   "version": "3.6.5"
  }
 },
 "nbformat": 4,
 "nbformat_minor": 2
}
