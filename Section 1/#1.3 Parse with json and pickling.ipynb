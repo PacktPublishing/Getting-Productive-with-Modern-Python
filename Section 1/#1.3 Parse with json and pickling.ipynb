{
 "cells": [
  {
   "cell_type": "code",
   "execution_count": 1,
   "metadata": {},
   "outputs": [],
   "source": [
    "# Data persistence with json\n",
    "import json\n",
    "\n",
    "# Creating data dictionary-\n",
    "data = {}  \n",
    "\n",
    "data['employee'] = []  \n",
    "\n",
    "data['employee'].append({  \n",
    "    'name': 'Satya',\n",
    "    'website': 'microsoft.com',\n",
    "    'from': 'India'\n",
    "})\n",
    "data['employee'].append({  \n",
    "    'name': 'Jorden',\n",
    "    'website': 'IBM.com',\n",
    "    'from': 'New york'\n",
    "})\n",
    "data['employee'].append({  \n",
    "    'name': 'Luther',\n",
    "    'website': 'oracle.com',\n",
    "    'from': 'California'\n",
    "})\n",
    "\n",
    "# Saving as text file-\n",
    "with open('Our_Data.txt', 'w') as outfile:  \n",
    "    json.dump(data, outfile)\n",
    "    \n",
    "    \n",
    "    \n",
    "# To open the file back-\n",
    "with open('Our_Data.txt') as json_file:  \n",
    "    data = json.load(json_file)\n",
    "    \n",
    "\n",
    "\n",
    "\n",
    "\n",
    "\n"
   ]
  },
  {
   "cell_type": "code",
   "execution_count": 2,
   "metadata": {},
   "outputs": [
    {
     "name": "stdout",
     "output_type": "stream",
     "text": [
      "Name: Satya\n",
      "Website: microsoft.com\n",
      "From: India\n",
      "\n",
      "Name: Jorden\n",
      "Website: IBM.com\n",
      "From: New york\n",
      "\n",
      "Name: Luther\n",
      "Website: oracle.com\n",
      "From: California\n",
      "\n"
     ]
    }
   ],
   "source": [
    "# For printing the info-\n",
    "for p in data['employee']:\n",
    "    print('Name: ' + p['name'])\n",
    "    print('Website: ' + p['website'])\n",
    "    print('From: ' + p['from'])\n",
    "    print('')\n",
    "        "
   ]
  },
  {
   "cell_type": "code",
   "execution_count": 3,
   "metadata": {},
   "outputs": [
    {
     "name": "stdout",
     "output_type": "stream",
     "text": [
      "{'employee': [{'name': 'Satya', 'website': 'microsoft.com', 'from': 'India'}, {'name': 'Jorden', 'website': 'IBM.com', 'from': 'New york'}, {'name': 'Luther', 'website': 'oracle.com', 'from': 'California'}]}\n"
     ]
    }
   ],
   "source": [
    "# Importing pickle package-\n",
    "import pickle\n",
    "\n",
    "# Saving file as pickle Format-\n",
    "with open('filename.pkl', 'wb') as handle:\n",
    "    pickle.dump(data, handle, protocol=pickle.HIGHEST_PROTOCOL)\n",
    "\n",
    "# Retreiving the Pickle file back-\n",
    "with open('filename.pkl', 'rb') as handle:\n",
    "    unserialized_data = pickle.load(handle)\n",
    "print(unserialized_data)"
   ]
  }
 ],
 "metadata": {
  "kernelspec": {
   "display_name": "Python 3",
   "language": "python",
   "name": "python3"
  },
  "language_info": {
   "codemirror_mode": {
    "name": "ipython",
    "version": 3
   },
   "file_extension": ".py",
   "mimetype": "text/x-python",
   "name": "python",
   "nbconvert_exporter": "python",
   "pygments_lexer": "ipython3",
   "version": "3.6.5"
  }
 },
 "nbformat": 4,
 "nbformat_minor": 2
}
