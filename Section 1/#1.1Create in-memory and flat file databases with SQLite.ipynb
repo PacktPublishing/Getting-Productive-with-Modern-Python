{
 "cells": [
  {
   "cell_type": "code",
   "execution_count": 1,
   "metadata": {},
   "outputs": [],
   "source": [
    "# Creating a table in an in-memory SQLite database--\n",
    "\n",
    "# Importing SQLite module\n",
    "import sqlite3\n",
    "\n",
    "import pandas as pd\n"
   ]
  },
  {
   "cell_type": "code",
   "execution_count": 2,
   "metadata": {},
   "outputs": [
    {
     "data": {
      "text/plain": [
       "<sqlite3.Cursor at 0x295316f5730>"
      ]
     },
     "execution_count": 2,
     "metadata": {},
     "output_type": "execute_result"
    }
   ],
   "source": [
    "# Connection's Object\n",
    "connection_obj = sqlite3.connect(\":memory:\")\n",
    "\n",
    "# Object of cursor\n",
    "cursor_obj = connection_obj.cursor()\n",
    "\n",
    "# Saving format of table\n",
    "# It will be written as an SQLite command\n",
    "create_table = \"CREATE TABLE STUDENT(RollNo int, FirstName varchar(20), LastName varchar(20), Branch varchar(3))\"\n",
    "\n",
    "# Lets execute\n",
    "cursor_obj.execute(create_table)\n",
    "\n",
    "cursor_obj.execute(\"select * from SQLite_master where type=\\\"table\\\"\")\n"
   ]
  },
  {
   "cell_type": "code",
   "execution_count": 3,
   "metadata": {},
   "outputs": [
    {
     "name": "stdout",
     "output_type": "stream",
     "text": [
      "Table availables (in-memory database):\n",
      "Tables list from SQLite Master:\n",
      "Data Base Object Name: table\n",
      "Name database object: STUDENT\n",
      "Table Name: STUDENT\n",
      "Root page: 2\n",
      "SQL statement: CREATE TABLE STUDENT(RollNo int, FirstName varchar(20), LastName varchar(20), Branch varchar(3))\n"
     ]
    }
   ],
   "source": [
    "# Lets print the tables--\n",
    "print(\"Table availables (in-memory database):\")\n",
    "\n",
    "tables = cursor_obj.fetchall()\n",
    "\n",
    "print(\"Tables list from SQLite Master:\")\n",
    "\n",
    "for table in tables:\n",
    "    print(\"Data Base Object Name: %s\"%(table[0]))\n",
    "    print(\"Name database object: %s\"%(table[1]))\n",
    "    print(\"Table Name: %s\"%(table[2]))\n",
    "    print(\"Root page: %s\"%(table[3]))\n",
    "    print(\"SQL statement: %s\"%(table[4]))\n",
    "    \n",
    "    \n",
    "data = [\n",
    "        (1,'Foo', 'Cool','ME'),\n",
    "        (3,'Bar', 'Hot','CSE'),\n",
    "        (5,'Moo', 'Zoo','IT')]\n"
   ]
  },
  {
   "cell_type": "code",
   "execution_count": 4,
   "metadata": {},
   "outputs": [
    {
     "name": "stdout",
     "output_type": "stream",
     "text": [
      "[(5, 'Moo', 'Zoo', 'IT')]\n"
     ]
    }
   ],
   "source": [
    "# Inserting the data--\n",
    "try:\n",
    "  sql = '''INSERT INTO STUDENT (RollNo, FirstName, LastName, Branch) VALUES(?,?,?,?)'''\n",
    "  cursor_obj.executemany(sql, data)\n",
    "\n",
    "except sqlite3.IntegrityError as e:\n",
    "  print('sqlite error: ', e.args[0]) # column name is not unique\n",
    "  \n",
    "# Commiting the above changes--\n",
    "connection_obj.commit()\n",
    "\n",
    "# To view any particular entry--\n",
    "cursor_obj.execute(\"SELECT * FROM STUDENT WHERE Branch='IT';\")\n",
    "print(cursor_obj.fetchall())"
   ]
  },
  {
   "cell_type": "code",
   "execution_count": 5,
   "metadata": {},
   "outputs": [],
   "source": [
    "# Converting it to Flat File--\n",
    "table = pd.read_sql_query(\"SELECT * from STUDENT\", connection_obj)\n",
    "table.to_csv(\"Student_Table\" + '.csv', index_label='index')"
   ]
  },
  {
   "cell_type": "code",
   "execution_count": 6,
   "metadata": {},
   "outputs": [
    {
     "name": "stdout",
     "output_type": "stream",
     "text": [
      "STUDENT\n"
     ]
    }
   ],
   "source": [
    "# Getting all the table names--\n",
    "res = cursor_obj.execute(\"SELECT name FROM sqlite_master WHERE type='table';\")\n",
    "for name in res:\n",
    "    print (name[0])\n",
    "    \n",
    "\n",
    "# Safely Closing the SQL Data Base\n",
    "connection_obj.close()"
   ]
  }
 ],
 "metadata": {
  "kernelspec": {
   "display_name": "Python 3",
   "language": "python",
   "name": "python3"
  },
  "language_info": {
   "codemirror_mode": {
    "name": "ipython",
    "version": 3
   },
   "file_extension": ".py",
   "mimetype": "text/x-python",
   "name": "python",
   "nbconvert_exporter": "python",
   "pygments_lexer": "ipython3",
   "version": "3.6.5"
  }
 },
 "nbformat": 4,
 "nbformat_minor": 2
}
