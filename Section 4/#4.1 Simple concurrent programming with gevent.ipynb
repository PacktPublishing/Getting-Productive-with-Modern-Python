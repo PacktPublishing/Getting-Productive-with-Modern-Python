{
 "cells": [
  {
   "cell_type": "code",
   "execution_count": 1,
   "metadata": {},
   "outputs": [
    {
     "name": "stdout",
     "output_type": "stream",
     "text": [
      "Running first line- FIRST FUNCTION\n",
      "----------\n",
      "Running first line of- SECOND FUNCTION\n",
      "**********\n",
      "Running first line of- THIRD FUNCTION\n",
      "##########\n",
      "\n",
      " --\n",
      "Explicitly switched to Function1 again!\n",
      "\n",
      " **\n",
      "Explicitly back to Function2!\n",
      "\n",
      " ##\n",
      "Now back to Function3!\n"
     ]
    },
    {
     "data": {
      "text/plain": [
       "[<Greenlet \"Greenlet-0\" at 0x21af7d6e548: _run>,\n",
       " <Greenlet \"Greenlet-1\" at 0x21af7d6e648: _run>,\n",
       " <Greenlet \"Greenlet-2\" at 0x21af7d6e748: _run>]"
      ]
     },
     "execution_count": 1,
     "metadata": {},
     "output_type": "execute_result"
    }
   ],
   "source": [
    "# Concurrent programming with Gevent-\n",
    "# Gevent provides clean API for a variety of concurrency and network related tasks\n",
    "\n",
    "# Importing the Gevent package\n",
    "import gevent\n",
    "\n",
    "def function1():\n",
    "    print('Running first line- FIRST FUNCTION')\n",
    "    print('----------')\n",
    "    gevent.sleep(0) # Skipping to second function\n",
    "    print('\\n --')\n",
    "    print('Explicitly switched to Function1 again!')\n",
    "\n",
    "def function2():\n",
    "    print('Running first line of- SECOND FUNCTION')\n",
    "    print('**********')\n",
    "    gevent.sleep(0) # Skip back to first one\n",
    "    print('\\n **')\n",
    "    print('Explicitly back to Function2!')\n",
    "\n",
    "def function3():\n",
    "    print('Running first line of- THIRD FUNCTION')\n",
    "    print('##########')\n",
    "    gevent.sleep(0) # Skip back to first one\n",
    "    print('\\n ##')\n",
    "    print('Now back to Function3!')\n",
    "    \n",
    "gevent.joinall([\n",
    "                gevent.spawn(function1),\n",
    "                gevent.spawn(function2),\n",
    "                gevent.spawn(function3),\n",
    "])\n",
    "    \n",
    "\n",
    "\n",
    "\n",
    "\n",
    "\n"
   ]
  },
  {
   "cell_type": "code",
   "execution_count": 2,
   "metadata": {},
   "outputs": [
    {
     "name": "stdout",
     "output_type": "stream",
     "text": [
      "Taking input of- FIRST FUNCTION \n",
      "----------\n",
      "Enter a number to SQUARE 12\n",
      "Taking input of- SECOND FUNCTION \n",
      "**********\n",
      "Enter a number to CUBE 3\n",
      "Square is- 144\n",
      "Cube is- 9\n"
     ]
    },
    {
     "data": {
      "text/plain": [
       "[<Greenlet \"Greenlet-3\" at 0x21af7d6e848: _run>,\n",
       " <Greenlet \"Greenlet-4\" at 0x21af7d6e948: _run>]"
      ]
     },
     "execution_count": 2,
     "metadata": {},
     "output_type": "execute_result"
    }
   ],
   "source": [
    "# Similarly we can perform such tasks in Input-Output stream \n",
    "# to take inputs of all functions first and then printing there output\n",
    "\n",
    "# Lets take more practical example-\n",
    "# Here we are taking inputs firstly from 2 functions and then giving output-\n",
    "def square():\n",
    "    print('Taking input of- FIRST FUNCTION ')\n",
    "    print('----------')\n",
    "    x = int(input(\"Enter a number to SQUARE \"))\n",
    "    gevent.sleep(0) # Skipping to second function\n",
    "    xy = x*x\n",
    "    print('Square is-', xy)\n",
    "\n",
    "def cube():\n",
    "    print('Taking input of- SECOND FUNCTION ')\n",
    "    print('**********')\n",
    "    y = int(input(\"Enter a number to CUBE \"))\n",
    "    gevent.sleep(0) # Skip back to first one\n",
    "    yx = y*y\n",
    "    print('Cube is-', yx)\n",
    "\n",
    "gevent.joinall([\n",
    "                gevent.spawn(square),\n",
    "                gevent.spawn(cube),\n",
    "])"
   ]
  },
  {
   "cell_type": "code",
   "execution_count": null,
   "metadata": {},
   "outputs": [],
   "source": []
  }
 ],
 "metadata": {
  "kernelspec": {
   "display_name": "Python 3",
   "language": "python",
   "name": "python3"
  },
  "language_info": {
   "codemirror_mode": {
    "name": "ipython",
    "version": 3
   },
   "file_extension": ".py",
   "mimetype": "text/x-python",
   "name": "python",
   "nbconvert_exporter": "python",
   "pygments_lexer": "ipython3",
   "version": "3.6.5"
  }
 },
 "nbformat": 4,
 "nbformat_minor": 2
}
