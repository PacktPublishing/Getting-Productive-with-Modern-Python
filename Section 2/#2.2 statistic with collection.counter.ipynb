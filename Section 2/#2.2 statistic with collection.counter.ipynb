{
 "cells": [
  {
   "cell_type": "code",
   "execution_count": 1,
   "metadata": {},
   "outputs": [],
   "source": [
    "# Quick Statistics with Collection.Counter\n",
    "\n",
    "from collections import Counter\n",
    "# Importing the Counter Module\n",
    "\n",
    "import numpy as np\n",
    "# Numpy for mean, mode and median\n",
    "\n",
    "from scipy import stats\n",
    "# For calculating mode and other stats\n",
    "\n"
   ]
  },
  {
   "cell_type": "code",
   "execution_count": 2,
   "metadata": {},
   "outputs": [
    {
     "name": "stdout",
     "output_type": "stream",
     "text": [
      "Counter({'a': 4, 'b': 3, 'c': 1})\n",
      "Counter({'a': 4, 'b': 3, 'c': 1})\n",
      "Counter({'a': 4, 'b': 3, 'c': 1})\n",
      "Counter({'a': 4, 'b': 3, 'c': 1})\n"
     ]
    }
   ],
   "source": [
    "# Counter accepts an iterable and counts its quantity\n",
    "# Ways to set counter-\n",
    "\n",
    "# 1\n",
    "print (Counter(['a', 'b', 'a', 'a', 'c', 'a', 'b', 'b']))\n",
    "# 2\n",
    "print (Counter({'a':4, 'b':3, 'c':1}))\n",
    "# 3\n",
    "print (Counter(a=4, b=3, c=1))\n",
    "# 4\n",
    "print (Counter('abacaabb'))\n",
    "# All 4 will return same vaues "
   ]
  },
  {
   "cell_type": "code",
   "execution_count": 3,
   "metadata": {},
   "outputs": [
    {
     "name": "stdout",
     "output_type": "stream",
     "text": [
      "4\n"
     ]
    }
   ],
   "source": [
    "# For checking the count of an alphabet-\n",
    "counted = Counter('abacaabb')\n",
    "print(counted['a'])\n",
    "# Counts the value of 'a'\n"
   ]
  },
  {
   "cell_type": "code",
   "execution_count": 4,
   "metadata": {},
   "outputs": [
    {
     "name": "stdout",
     "output_type": "stream",
     "text": [
      "[('a', 4), ('b', 3), ('c', 1)]\n"
     ]
    }
   ],
   "source": [
    "# saves the list of most common variables\n",
    "# Here all are common thats why there will be no change-\n",
    "common = counted.most_common()\n",
    "print(common)"
   ]
  },
  {
   "cell_type": "code",
   "execution_count": 5,
   "metadata": {},
   "outputs": [],
   "source": [
    "counter_var = Counter([('av', 4082), \n",
    "                       ('cool', 1146), \n",
    "                       ('man', 2012), \n",
    "                       ('woman', 3421), \n",
    "                       ('boys', 1700)\n",
    "                       ])\n",
    "\n",
    "\n"
   ]
  },
  {
   "cell_type": "code",
   "execution_count": 6,
   "metadata": {},
   "outputs": [
    {
     "name": "stdout",
     "output_type": "stream",
     "text": [
      "Counter({('av', 4082): 1, ('cool', 1146): 1, ('man', 2012): 1, ('woman', 3421): 1, ('boys', 1700): 1})\n"
     ]
    }
   ],
   "source": [
    "print(counter_var)"
   ]
  },
  {
   "cell_type": "code",
   "execution_count": 7,
   "metadata": {},
   "outputs": [
    {
     "data": {
      "text/plain": [
       "['av', 'cool', 'man', 'woman', 'boys']"
      ]
     },
     "execution_count": 7,
     "metadata": {},
     "output_type": "execute_result"
    }
   ],
   "source": [
    "[key for key, count in counter_var]"
   ]
  },
  {
   "cell_type": "code",
   "execution_count": 8,
   "metadata": {},
   "outputs": [
    {
     "data": {
      "text/plain": [
       "[4082, 1146, 2012, 3421, 1700]"
      ]
     },
     "execution_count": 8,
     "metadata": {},
     "output_type": "execute_result"
    }
   ],
   "source": [
    "[count for key, count in counter_var]"
   ]
  },
  {
   "cell_type": "code",
   "execution_count": 9,
   "metadata": {},
   "outputs": [],
   "source": [
    "# By this simple line, we can calculate mean-\n",
    "mean = np.mean([count for key, count in counter_var])\n",
    "\n",
    "# Similarly we can measure any means of central tendency\n",
    "\n",
    "# median\n",
    "median = np.median([count for key, count in counter_var])\n",
    "\n",
    "# mode\n",
    "mode= stats.mode([count for key, count in counter_var])\n",
    "\n",
    "# max value in our data\n",
    "max_value = np.max([count for key, count in counter_var])\n",
    "\n",
    "# min value in our data\n",
    "min_value = np.min([count for key, count in counter_var])"
   ]
  },
  {
   "cell_type": "code",
   "execution_count": 10,
   "metadata": {},
   "outputs": [
    {
     "name": "stdout",
     "output_type": "stream",
     "text": [
      "Mean = 2472.2\n",
      "Mode = ModeResult(mode=array([1146]), count=array([1]))\n",
      "Median = 2012.0\n",
      "Max = 4082\n",
      "Min = 1146\n"
     ]
    }
   ],
   "source": [
    "# Printing Quick Summary-\n",
    "print(\"Mean =\", mean)\n",
    "print(\"Mode =\", mode)\n",
    "print(\"Median =\", median)\n",
    "print(\"Max =\", max_value)\n",
    "print(\"Min =\", min_value)\n"
   ]
  }
 ],
 "metadata": {
  "kernelspec": {
   "display_name": "Python 3",
   "language": "python",
   "name": "python3"
  },
  "language_info": {
   "codemirror_mode": {
    "name": "ipython",
    "version": 3
   },
   "file_extension": ".py",
   "mimetype": "text/x-python",
   "name": "python",
   "nbconvert_exporter": "python",
   "pygments_lexer": "ipython3",
   "version": "3.6.5"
  }
 },
 "nbformat": 4,
 "nbformat_minor": 2
}
