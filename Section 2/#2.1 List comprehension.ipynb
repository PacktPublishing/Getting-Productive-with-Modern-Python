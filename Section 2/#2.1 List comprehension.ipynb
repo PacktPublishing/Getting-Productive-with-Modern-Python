{
 "cells": [
  {
   "cell_type": "code",
   "execution_count": 1,
   "metadata": {},
   "outputs": [
    {
     "name": "stdout",
     "output_type": "stream",
     "text": [
      "n = [98, 76, 55, 45, 35, 22, 32, 12]\n"
     ]
    }
   ],
   "source": [
    "# List comprehension simply means to be pythonic-\n",
    "\n",
    "# Here is a list of 8 numbers-\n",
    "no_list = [98,76,55,45,35,22,32,12]\n",
    "\n",
    "# Now we'll double all the evens-\n",
    "Twice_Evens = []\n",
    "\n",
    "# Using For loop to iterate over elements, scan and double the even numbers-\n",
    "for n in no_list:\n",
    "    if n % 2 == 0:\n",
    "        Twice_Evens.append(n * 2)\n",
    "# Also, after the loop the final value of n becomes to '12'\n",
    "# Which is the last number \n",
    "\n",
    "# We may check the value of n by-\n",
    "print(\"n =\", no_list)\n"
   ]
  },
  {
   "cell_type": "code",
   "execution_count": 2,
   "metadata": {},
   "outputs": [
    {
     "name": "stdout",
     "output_type": "stream",
     "text": [
      "True\n"
     ]
    }
   ],
   "source": [
    "# After using list comprehension\n",
    "# Our code is only left with a single line-\n",
    "Twice_Evens_2 = [n * 2 for n in no_list if n % 2 == 0]\n",
    "\n",
    "# Here we can check if the results are same or not-\n",
    "print(Twice_Evens==Twice_Evens_2)\n",
    "# As we can see the True boolean value of our result!\n"
   ]
  },
  {
   "cell_type": "code",
   "execution_count": 3,
   "metadata": {},
   "outputs": [],
   "source": [
    "# Some advanced list comprehension-\n",
    "\n",
    "# Here these complex big loops are making a logic to \n",
    "even_odd = []\n",
    "for i in range(2):\n",
    "    for j in range(10):\n",
    "            if j%2==i:\n",
    "                    even_odd.append(j)\n",
    "\n",
    "\n",
    "# We have done the same thing with a single line of code-\n",
    "even_odd_2 = [j for j in range(10) for i in range(2) if j%2==i]\n",
    "\n",
    "\n",
    "\n"
   ]
  },
  {
   "cell_type": "code",
   "execution_count": 4,
   "metadata": {},
   "outputs": [
    {
     "name": "stdout",
     "output_type": "stream",
     "text": [
      "n Ist one = [0, 2, 4, 6, 8, 1, 3, 5, 7, 9]\n",
      "n IInd one = [0, 1, 2, 3, 4, 5, 6, 7, 8, 9]\n"
     ]
    }
   ],
   "source": [
    "# We may check the value of n by-\n",
    "print(\"n Ist one =\", even_odd)\n",
    "print(\"n IInd one =\", even_odd_2)\n",
    "\n"
   ]
  },
  {
   "cell_type": "code",
   "execution_count": 5,
   "metadata": {},
   "outputs": [
    {
     "name": "stdout",
     "output_type": "stream",
     "text": [
      "False\n"
     ]
    }
   ],
   "source": [
    "# Here we can check if the results are same or not-\n",
    "print(even_odd==even_odd_2)\n",
    "\n",
    "\n",
    "\n",
    "# Containers in Python\n",
    "# These data types store data in a container-\n",
    "# Examples of built-in containers are- list, dict, tuple, set\n"
   ]
  }
 ],
 "metadata": {
  "kernelspec": {
   "display_name": "Python 3",
   "language": "python",
   "name": "python3"
  },
  "language_info": {
   "codemirror_mode": {
    "name": "ipython",
    "version": 3
   },
   "file_extension": ".py",
   "mimetype": "text/x-python",
   "name": "python",
   "nbconvert_exporter": "python",
   "pygments_lexer": "ipython3",
   "version": "3.6.5"
  }
 },
 "nbformat": 4,
 "nbformat_minor": 2
}
