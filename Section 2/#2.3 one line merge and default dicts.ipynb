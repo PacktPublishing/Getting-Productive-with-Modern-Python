{
 "cells": [
  {
   "cell_type": "code",
   "execution_count": null,
   "metadata": {},
   "outputs": [],
   "source": [
    "# Powering up dictionaries with defaultdict and merges\n",
    "\n",
    "# Importing default Dictionary module\n",
    "from collections import defaultdict\n",
    "\n",
    "# list of splited elements in the string\n",
    "foobar_list = 'foo bar foo bar bar bar foo'.split()\n",
    "print(\"Foo Bar List - \",foobar_list)\n"
   ]
  },
  {
   "cell_type": "code",
   "execution_count": null,
   "metadata": {},
   "outputs": [],
   "source": [
    "# In this case the default value will be 0\n",
    "foobar_count = defaultdict(int) \n",
    "\n",
    "for i in foobar_list:\n",
    "    foobar_count[i] += 1 # increment element's value by 1\n",
    "    \n",
    "print(foobar_count['foo']) \n",
    "print(foobar_count['too'])\n"
   ]
  },
  {
   "cell_type": "code",
   "execution_count": null,
   "metadata": {},
   "outputs": [],
   "source": [
    "# creating defaultdict with values\n",
    "d_values = defaultdict(int, a=10, b=12, c=13)\n",
    "print (d_values)\n"
   ]
  },
  {
   "cell_type": "code",
   "execution_count": null,
   "metadata": {},
   "outputs": [],
   "source": [
    "# Merging dictionaries\n",
    "\n",
    "# Lets take 2 dictionaries\n",
    "x = {'a': 1, 'b': 2, 'd':5}\n",
    "y = {'b': 3, 'c': 4, 'e':9}\n",
    "\n",
    "# for combing them in one expression, that will be-\n",
    "z = {**x, **y}\n",
    "print(z)\n",
    "\n",
    "# we can add other key-value pair-\n",
    "p = {**x, 'spam': 1, 'egs': 2, **y}\n",
    "print(p)"
   ]
  },
  {
   "cell_type": "code",
   "execution_count": null,
   "metadata": {},
   "outputs": [],
   "source": []
  }
 ],
 "metadata": {
  "kernelspec": {
   "display_name": "Python 3",
   "language": "python",
   "name": "python3"
  },
  "language_info": {
   "codemirror_mode": {
    "name": "ipython",
    "version": 3
   },
   "file_extension": ".py",
   "mimetype": "text/x-python",
   "name": "python",
   "nbconvert_exporter": "python",
   "pygments_lexer": "ipython3",
   "version": "3.6.5"
  }
 },
 "nbformat": 4,
 "nbformat_minor": 2
}
